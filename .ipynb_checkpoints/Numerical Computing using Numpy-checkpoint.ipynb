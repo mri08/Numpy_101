{
 "cells": [
  {
   "cell_type": "code",
   "execution_count": 1,
   "id": "16c15c30",
   "metadata": {},
   "outputs": [],
   "source": [
    "import numpy as np"
   ]
  },
  {
   "cell_type": "code",
   "execution_count": 2,
   "id": "c373414b",
   "metadata": {},
   "outputs": [],
   "source": [
    "import array"
   ]
  },
  {
   "cell_type": "code",
   "execution_count": 6,
   "id": "9f94ba88",
   "metadata": {},
   "outputs": [
    {
     "name": "stdout",
     "output_type": "stream",
     "text": [
      "[1 2 3 4 5]\n",
      "<class 'numpy.ndarray'>\n"
     ]
    }
   ],
   "source": [
    "# creating an array\n",
    "ary = np.array([1,2,3,4,5])\n",
    "print(ary)\n",
    "print(type(ary))"
   ]
  },
  {
   "cell_type": "code",
   "execution_count": 7,
   "id": "68490c60",
   "metadata": {},
   "outputs": [
    {
     "data": {
      "text/plain": [
       "array(['2', '4', '6', '8', 'Even'], dtype='<U21')"
      ]
     },
     "execution_count": 7,
     "metadata": {},
     "output_type": "execute_result"
    }
   ],
   "source": [
    "# here the integer type data gets upcasted to string type\n",
    "np.array([2, 4, 6, 8, 'Even'])"
   ]
  },
  {
   "cell_type": "code",
   "execution_count": 8,
   "id": "e361f8df",
   "metadata": {},
   "outputs": [
    {
     "data": {
      "text/plain": [
       "array(['2.0', '4', '6', '8.2', 'Even'], dtype='<U32')"
      ]
     },
     "execution_count": 8,
     "metadata": {},
     "output_type": "execute_result"
    }
   ],
   "source": [
    "# float and int gets upcasted to string\n",
    "np.array([2.0, 4, 6, 8.2, 'Even'])"
   ]
  },
  {
   "cell_type": "code",
   "execution_count": 9,
   "id": "a3ac93be",
   "metadata": {},
   "outputs": [
    {
     "data": {
      "text/plain": [
       "array([1, 2, 3])"
      ]
     },
     "execution_count": 9,
     "metadata": {},
     "output_type": "execute_result"
    }
   ],
   "source": [
    "# creating a 1D array\n",
    "np.array([1, 2, 3])"
   ]
  },
  {
   "cell_type": "code",
   "execution_count": 10,
   "id": "bf7a026c",
   "metadata": {},
   "outputs": [
    {
     "data": {
      "text/plain": [
       "array([[1, 2, 3],\n",
       "       [4, 5, 6]])"
      ]
     },
     "execution_count": 10,
     "metadata": {},
     "output_type": "execute_result"
    }
   ],
   "source": [
    "# 2D array\n",
    "np.array([[1,2,3], [4,5,6]])    #numbers can be given in the form of list or tuple the output will be same"
   ]
  },
  {
   "cell_type": "code",
   "execution_count": 14,
   "id": "ff899385",
   "metadata": {},
   "outputs": [
    {
     "data": {
      "text/plain": [
       "array([[[1, 2],\n",
       "        [3, 4]],\n",
       "\n",
       "       [[6, 7],\n",
       "        [8, 9]]])"
      ]
     },
     "execution_count": 14,
     "metadata": {},
     "output_type": "execute_result"
    }
   ],
   "source": [
    "# 3D array\n",
    "np.array([[[1,2],[3,4]], [[6,7],[8,9]]])"
   ]
  },
  {
   "cell_type": "code",
   "execution_count": 19,
   "id": "d2ae0aa0",
   "metadata": {},
   "outputs": [
    {
     "data": {
      "text/plain": [
       "array([[[2, 3, 4, 5, 6, 7, 8]]])"
      ]
     },
     "execution_count": 19,
     "metadata": {},
     "output_type": "execute_result"
    }
   ],
   "source": [
    "# creating nD array by specifing the ndim \n",
    "np.array([2,3,4,5,6,7,8], ndmin = 3)"
   ]
  },
  {
   "cell_type": "code",
   "execution_count": 18,
   "id": "88f2e9c5",
   "metadata": {},
   "outputs": [
    {
     "name": "stderr",
     "output_type": "stream",
     "text": [
      "<ipython-input-18-a33ef3418dc1>:1: VisibleDeprecationWarning: Creating an ndarray from ragged nested sequences (which is a list-or-tuple of lists-or-tuples-or ndarrays with different lengths or shapes) is deprecated. If you meant to do this, you must specify 'dtype=object' when creating the ndarray.\n",
      "  np.array([[1,2], [3,4], [5,6,7]])\n"
     ]
    },
    {
     "data": {
      "text/plain": [
       "array([list([1, 2]), list([3, 4]), list([5, 6, 7])], dtype=object)"
      ]
     },
     "execution_count": 18,
     "metadata": {},
     "output_type": "execute_result"
    }
   ],
   "source": [
    "np.array([[1,2], [3,4], [5,6,7]]) #third element is not of the same order "
   ]
  },
  {
   "cell_type": "code",
   "execution_count": 20,
   "id": "b3d81f39",
   "metadata": {},
   "outputs": [
    {
     "data": {
      "text/plain": [
       "array([1.+0.j, 3.+0.j, 5.+0.j, 7.+0.j])"
      ]
     },
     "execution_count": 20,
     "metadata": {},
     "output_type": "execute_result"
    }
   ],
   "source": [
    "# convert the data type into complex\n",
    "np.array([1,3,5,7], dtype = complex)"
   ]
  },
  {
   "cell_type": "code",
   "execution_count": 28,
   "id": "19d6fff3",
   "metadata": {},
   "outputs": [],
   "source": [
    "# changing the dtype of the array components\n",
    "\n",
    "arr = np.array([(1,2), (3,4)], dtype = [('a', '<i2'),('b', '<i8')])"
   ]
  },
  {
   "cell_type": "code",
   "execution_count": 29,
   "id": "894ba9d5",
   "metadata": {},
   "outputs": [
    {
     "data": {
      "text/plain": [
       "array([(1, 2), (3, 4)], dtype=[('a', '<i2'), ('b', '<i8')])"
      ]
     },
     "execution_count": 29,
     "metadata": {},
     "output_type": "execute_result"
    }
   ],
   "source": [
    "arr"
   ]
  },
  {
   "cell_type": "code",
   "execution_count": 30,
   "id": "bede1356",
   "metadata": {},
   "outputs": [
    {
     "data": {
      "text/plain": [
       "numpy.int16"
      ]
     },
     "execution_count": 30,
     "metadata": {},
     "output_type": "execute_result"
    }
   ],
   "source": [
    "type(arr[1][0])"
   ]
  },
  {
   "cell_type": "code",
   "execution_count": 31,
   "id": "5a465d70",
   "metadata": {},
   "outputs": [
    {
     "data": {
      "text/plain": [
       "numpy.int64"
      ]
     },
     "execution_count": 31,
     "metadata": {},
     "output_type": "execute_result"
    }
   ],
   "source": [
    "type(arr[1][1])"
   ]
  },
  {
   "cell_type": "code",
   "execution_count": 32,
   "id": "4f963f25",
   "metadata": {},
   "outputs": [],
   "source": [
    "arr = np.array([(1,2), (3,4), (5,6)], dtype = [('a', '<i2'),('b', '<i8')])"
   ]
  },
  {
   "cell_type": "code",
   "execution_count": 36,
   "id": "6a5c5ebb",
   "metadata": {},
   "outputs": [
    {
     "data": {
      "text/plain": [
       "numpy.int16"
      ]
     },
     "execution_count": 36,
     "metadata": {},
     "output_type": "execute_result"
    }
   ],
   "source": [
    "type(arr[2][0])"
   ]
  },
  {
   "cell_type": "code",
   "execution_count": 42,
   "id": "89bd694b",
   "metadata": {},
   "outputs": [
    {
     "data": {
      "text/plain": [
       "matrix([[1, 2, 3],\n",
       "        [4, 5, 6]])"
      ]
     },
     "execution_count": 42,
     "metadata": {},
     "output_type": "execute_result"
    }
   ],
   "source": [
    "# numpy matrix\n",
    "arr1 = np.array([[1,2,3], [4,5,6]])\n",
    "np.mat(arr1)"
   ]
  },
  {
   "cell_type": "code",
   "execution_count": 43,
   "id": "c6b0cd05",
   "metadata": {},
   "outputs": [
    {
     "data": {
      "text/plain": [
       "array([ 2,  4,  6,  8, 10])"
      ]
     },
     "execution_count": 43,
     "metadata": {},
     "output_type": "execute_result"
    }
   ],
   "source": [
    "# convert list into an array\n",
    "# 1\n",
    "l = [2,4,6,8,10]\n",
    "\n",
    "np.array(l)"
   ]
  },
  {
   "cell_type": "code",
   "execution_count": 45,
   "id": "17a608c2",
   "metadata": {},
   "outputs": [
    {
     "data": {
      "text/plain": [
       "array([ 2,  4,  6,  8, 10])"
      ]
     },
     "execution_count": 45,
     "metadata": {},
     "output_type": "execute_result"
    }
   ],
   "source": [
    "# 2\n",
    "np.asarray(l)"
   ]
  },
  {
   "cell_type": "code",
   "execution_count": 46,
   "id": "65d2548b",
   "metadata": {},
   "outputs": [
    {
     "data": {
      "text/plain": [
       "array([ 2,  4,  6,  8, 10])"
      ]
     },
     "execution_count": 46,
     "metadata": {},
     "output_type": "execute_result"
    }
   ],
   "source": [
    "# 3 \n",
    "np.asanyarray(l)"
   ]
  },
  {
   "cell_type": "code",
   "execution_count": 49,
   "id": "68b6994c",
   "metadata": {},
   "outputs": [
    {
     "data": {
      "text/plain": [
       "matrix([[ 2,  4,  6,  8, 10]])"
      ]
     },
     "execution_count": 49,
     "metadata": {},
     "output_type": "execute_result"
    }
   ],
   "source": [
    "mat = np.mat(l) # first converting the list into a matrix\n",
    "np.asanyarray(mat)    # matrix is already a sub-array, so asanyarray doesnt convert it"
   ]
  },
  {
   "cell_type": "code",
   "execution_count": 50,
   "id": "798fead8",
   "metadata": {},
   "outputs": [
    {
     "data": {
      "text/plain": [
       "array([[ 2,  4,  6,  8, 10]])"
      ]
     },
     "execution_count": 50,
     "metadata": {},
     "output_type": "execute_result"
    }
   ],
   "source": [
    "np.asarray(mat)"
   ]
  },
  {
   "cell_type": "code",
   "execution_count": 51,
   "id": "54c185a9",
   "metadata": {},
   "outputs": [
    {
     "data": {
      "text/plain": [
       "True"
      ]
     },
     "execution_count": 51,
     "metadata": {},
     "output_type": "execute_result"
    }
   ],
   "source": [
    "# checking if matrix is a subclass of array\n",
    "issubclass(np.matrix, np.ndarray)"
   ]
  },
  {
   "cell_type": "code",
   "execution_count": 52,
   "id": "f10aac0f",
   "metadata": {},
   "outputs": [
    {
     "data": {
      "text/plain": [
       "False"
      ]
     },
     "execution_count": 52,
     "metadata": {},
     "output_type": "execute_result"
    }
   ],
   "source": [
    "# checking if ndarray is a subclass of matrix\n",
    "issubclass(np.ndarray, np.matrix)"
   ]
  },
  {
   "cell_type": "code",
   "execution_count": 53,
   "id": "2e79c1f8",
   "metadata": {},
   "outputs": [
    {
     "data": {
      "text/plain": [
       "array([[1, 2, 3],\n",
       "       [4, 5, 6]])"
      ]
     },
     "execution_count": 53,
     "metadata": {},
     "output_type": "execute_result"
    }
   ],
   "source": [
    "arr1"
   ]
  },
  {
   "cell_type": "code",
   "execution_count": 54,
   "id": "b207fa95",
   "metadata": {},
   "outputs": [],
   "source": [
    "# deep copy vs Shallow copy\n",
    "\n",
    "a = arr1    # shallow copy\n",
    "b = np.copy(arr1)    # deep copy"
   ]
  },
  {
   "cell_type": "code",
   "execution_count": 56,
   "id": "e1e5d8c7",
   "metadata": {},
   "outputs": [],
   "source": [
    "arr1[0][0] = 77    # changing the first element of arr1, array is a mutable datatype"
   ]
  },
  {
   "cell_type": "code",
   "execution_count": 57,
   "id": "186b355c",
   "metadata": {},
   "outputs": [
    {
     "data": {
      "text/plain": [
       "array([[77,  2,  3],\n",
       "       [ 4,  5,  6]])"
      ]
     },
     "execution_count": 57,
     "metadata": {},
     "output_type": "execute_result"
    }
   ],
   "source": [
    "a   # since a points to the same location as that of arr1"
   ]
  },
  {
   "cell_type": "code",
   "execution_count": 58,
   "id": "26488c2a",
   "metadata": {},
   "outputs": [
    {
     "data": {
      "text/plain": [
       "array([[1, 2, 3],\n",
       "       [4, 5, 6]])"
      ]
     },
     "execution_count": 58,
     "metadata": {},
     "output_type": "execute_result"
    }
   ],
   "source": [
    "b    # a new location is created where the value of b is stored"
   ]
  },
  {
   "cell_type": "code",
   "execution_count": 59,
   "id": "5f5edd59",
   "metadata": {},
   "outputs": [
    {
     "name": "stdout",
     "output_type": "stream",
     "text": [
      "[77  2  3]\n",
      "[4 5 6]\n"
     ]
    }
   ],
   "source": [
    "for i in arr1:\n",
    "    print(i)"
   ]
  },
  {
   "cell_type": "code",
   "execution_count": 60,
   "id": "f4c02cdf",
   "metadata": {},
   "outputs": [
    {
     "data": {
      "text/plain": [
       "array([[ True, False, False],\n",
       "       [False,  True, False],\n",
       "       [False, False,  True]])"
      ]
     },
     "execution_count": 60,
     "metadata": {},
     "output_type": "execute_result"
    }
   ],
   "source": [
    "np.fromfunction(lambda i, j: i==j, (3,3))"
   ]
  },
  {
   "cell_type": "code",
   "execution_count": 63,
   "id": "2c53ae23",
   "metadata": {},
   "outputs": [
    {
     "data": {
      "text/plain": [
       "array([[0., 0., 0., 0.],\n",
       "       [1., 1., 1., 1.],\n",
       "       [4., 4., 4., 4.],\n",
       "       [9., 9., 9., 9.]])"
      ]
     },
     "execution_count": 63,
     "metadata": {},
     "output_type": "execute_result"
    }
   ],
   "source": [
    "np.fromfunction(lambda i, j: i**2, (4,4))"
   ]
  },
  {
   "cell_type": "code",
   "execution_count": 65,
   "id": "390889a4",
   "metadata": {},
   "outputs": [
    {
     "name": "stderr",
     "output_type": "stream",
     "text": [
      "<ipython-input-65-cc1ffa8191d2>:1: RuntimeWarning: divide by zero encountered in true_divide\n",
      "  np.fromfunction(lambda i, j: i/j, (3,3))\n",
      "<ipython-input-65-cc1ffa8191d2>:1: RuntimeWarning: invalid value encountered in true_divide\n",
      "  np.fromfunction(lambda i, j: i/j, (3,3))\n"
     ]
    },
    {
     "data": {
      "text/plain": [
       "array([[nan, 0. , 0. ],\n",
       "       [inf, 1. , 0.5],\n",
       "       [inf, 2. , 1. ]])"
      ]
     },
     "execution_count": 65,
     "metadata": {},
     "output_type": "execute_result"
    }
   ],
   "source": [
    "np.fromfunction(lambda i, j: i/j, (3,3))  # inf is a floationg point representation of positive infinity in numpy"
   ]
  },
  {
   "cell_type": "code",
   "execution_count": 66,
   "id": "7e45d4c7",
   "metadata": {},
   "outputs": [],
   "source": [
    "gen = (i*i for i in range(5))"
   ]
  },
  {
   "cell_type": "code",
   "execution_count": 67,
   "id": "34d803a7",
   "metadata": {},
   "outputs": [
    {
     "data": {
      "text/plain": [
       "<generator object <genexpr> at 0x7fa832bc7040>"
      ]
     },
     "execution_count": 67,
     "metadata": {},
     "output_type": "execute_result"
    }
   ],
   "source": [
    "gen"
   ]
  },
  {
   "cell_type": "code",
   "execution_count": 69,
   "id": "42a566b6",
   "metadata": {},
   "outputs": [
    {
     "data": {
      "text/plain": [
       "array([ 0,  1,  4,  9, 16])"
      ]
     },
     "execution_count": 69,
     "metadata": {},
     "output_type": "execute_result"
    }
   ],
   "source": [
    "np.fromiter(gen, dtype = int)"
   ]
  },
  {
   "cell_type": "code",
   "execution_count": 70,
   "id": "34ef4118",
   "metadata": {},
   "outputs": [
    {
     "data": {
      "text/plain": [
       "array([0, 1, 2, 3, 4, 5])"
      ]
     },
     "execution_count": 70,
     "metadata": {},
     "output_type": "execute_result"
    }
   ],
   "source": [
    "np.fromiter(range(6), dtype = int)    # since range is also a generator function"
   ]
  },
  {
   "cell_type": "code",
   "execution_count": 71,
   "id": "612e55ce",
   "metadata": {},
   "outputs": [
    {
     "data": {
      "text/plain": [
       "array([1, 2, 3, 4])"
      ]
     },
     "execution_count": 71,
     "metadata": {},
     "output_type": "execute_result"
    }
   ],
   "source": [
    "# convert string to array\n",
    "np.fromstring('1,2,3,4', sep = ',', dtype = int)"
   ]
  },
  {
   "cell_type": "code",
   "execution_count": 81,
   "id": "de138c58",
   "metadata": {},
   "outputs": [
    {
     "data": {
      "text/plain": [
       "array([222, 333, 444, 555])"
      ]
     },
     "execution_count": 81,
     "metadata": {},
     "output_type": "execute_result"
    }
   ],
   "source": [
    "np.fromstring('222 333 444 555', sep = ' ', dtype = int)"
   ]
  },
  {
   "cell_type": "code",
   "execution_count": 82,
   "id": "b1ba58ca",
   "metadata": {},
   "outputs": [
    {
     "data": {
      "text/plain": [
       "6"
      ]
     },
     "execution_count": 82,
     "metadata": {},
     "output_type": "execute_result"
    }
   ],
   "source": [
    "arr1.size    # no.of elements present inside the array"
   ]
  },
  {
   "cell_type": "code",
   "execution_count": 84,
   "id": "c0efb521",
   "metadata": {},
   "outputs": [
    {
     "data": {
      "text/plain": [
       "(2, 3)"
      ]
     },
     "execution_count": 84,
     "metadata": {},
     "output_type": "execute_result"
    }
   ],
   "source": [
    "arr1.shape"
   ]
  },
  {
   "cell_type": "code",
   "execution_count": 85,
   "id": "73835a43",
   "metadata": {},
   "outputs": [],
   "source": [
    "# creating a 3D array\n",
    "\n",
    "arr2 = np.array([[[1,2,3,4], [2,3,4,5]],[[1,2,3,4], [2,3,4,5]]])"
   ]
  },
  {
   "cell_type": "code",
   "execution_count": 86,
   "id": "15c629e6",
   "metadata": {},
   "outputs": [
    {
     "data": {
      "text/plain": [
       "array([[[1, 2, 3, 4],\n",
       "        [2, 3, 4, 5]],\n",
       "\n",
       "       [[1, 2, 3, 4],\n",
       "        [2, 3, 4, 5]]])"
      ]
     },
     "execution_count": 86,
     "metadata": {},
     "output_type": "execute_result"
    }
   ],
   "source": [
    "arr2"
   ]
  },
  {
   "cell_type": "code",
   "execution_count": 88,
   "id": "89a637eb",
   "metadata": {},
   "outputs": [
    {
     "data": {
      "text/plain": [
       "(2, 2, 4)"
      ]
     },
     "execution_count": 88,
     "metadata": {},
     "output_type": "execute_result"
    }
   ],
   "source": [
    "arr2.shape    # there are two array of 2X4 dimension"
   ]
  },
  {
   "cell_type": "code",
   "execution_count": 87,
   "id": "f1e17562",
   "metadata": {},
   "outputs": [
    {
     "data": {
      "text/plain": [
       "3"
      ]
     },
     "execution_count": 87,
     "metadata": {},
     "output_type": "execute_result"
    }
   ],
   "source": [
    "arr2.ndim"
   ]
  },
  {
   "cell_type": "code",
   "execution_count": 90,
   "id": "73ded0b1",
   "metadata": {},
   "outputs": [
    {
     "data": {
      "text/plain": [
       "[0, 1, 2, 3, 4]"
      ]
     },
     "execution_count": 90,
     "metadata": {},
     "output_type": "execute_result"
    }
   ],
   "source": [
    "list(range(5))"
   ]
  },
  {
   "cell_type": "code",
   "execution_count": 91,
   "id": "1b493d08",
   "metadata": {},
   "outputs": [
    {
     "ename": "TypeError",
     "evalue": "'float' object cannot be interpreted as an integer",
     "output_type": "error",
     "traceback": [
      "\u001b[0;31m---------------------------------------------------------------------------\u001b[0m",
      "\u001b[0;31mTypeError\u001b[0m                                 Traceback (most recent call last)",
      "\u001b[0;32m<ipython-input-91-7fae47c8a0ab>\u001b[0m in \u001b[0;36m<module>\u001b[0;34m\u001b[0m\n\u001b[0;32m----> 1\u001b[0;31m \u001b[0mlist\u001b[0m\u001b[0;34m(\u001b[0m\u001b[0mrange\u001b[0m\u001b[0;34m(\u001b[0m\u001b[0;36m4.5\u001b[0m\u001b[0;34m)\u001b[0m\u001b[0;34m)\u001b[0m\u001b[0;34m\u001b[0m\u001b[0;34m\u001b[0m\u001b[0m\n\u001b[0m",
      "\u001b[0;31mTypeError\u001b[0m: 'float' object cannot be interpreted as an integer"
     ]
    }
   ],
   "source": [
    "list(range(4.5))   # range doesnt take float argument"
   ]
  },
  {
   "cell_type": "code",
   "execution_count": 89,
   "id": "4c683c43",
   "metadata": {},
   "outputs": [
    {
     "data": {
      "text/plain": [
       "array([0., 1., 2., 3., 4.])"
      ]
     },
     "execution_count": 89,
     "metadata": {},
     "output_type": "execute_result"
    }
   ],
   "source": [
    "np.arange(4.8)    # numpy arange takes float argument, it is a substitute of range "
   ]
  },
  {
   "cell_type": "code",
   "execution_count": 92,
   "id": "6130dbf2",
   "metadata": {},
   "outputs": [
    {
     "data": {
      "text/plain": [
       "array([4.8, 5. , 5.2, 5.4, 5.6, 5.8, 6. , 6.2, 6.4, 6.6, 6.8, 7. , 7.2,\n",
       "       7.4, 7.6, 7.8, 8. , 8.2, 8.4, 8.6, 8.8])"
      ]
     },
     "execution_count": 92,
     "metadata": {},
     "output_type": "execute_result"
    }
   ],
   "source": [
    "np.arange(4.8, 8.8, 0.2)"
   ]
  },
  {
   "cell_type": "code",
   "execution_count": 93,
   "id": "822716f6",
   "metadata": {},
   "outputs": [
    {
     "data": {
      "text/plain": [
       "array([9. , 8.7, 8.4, 8.1, 7.8, 7.5, 7.2, 6.9, 6.6])"
      ]
     },
     "execution_count": 93,
     "metadata": {},
     "output_type": "execute_result"
    }
   ],
   "source": [
    "np.arange(9, 6.6, -0.3)    # np.arange takes the upper bound when the arguments are float type"
   ]
  },
  {
   "cell_type": "code",
   "execution_count": 95,
   "id": "12fca4e9",
   "metadata": {},
   "outputs": [
    {
     "data": {
      "text/plain": [
       "array([1, 3, 5, 7, 9])"
      ]
     },
     "execution_count": 95,
     "metadata": {},
     "output_type": "execute_result"
    }
   ],
   "source": [
    "np.arange(1,10,2)    # for int type argument upper bound is excluded"
   ]
  },
  {
   "cell_type": "code",
   "execution_count": 97,
   "id": "b3f4ea3d",
   "metadata": {},
   "outputs": [
    {
     "data": {
      "text/plain": [
       "array([5.        , 5.11111111, 5.22222222, 5.33333333, 5.44444444,\n",
       "       5.55555556, 5.66666667, 5.77777778, 5.88888889, 6.        ])"
      ]
     },
     "execution_count": 97,
     "metadata": {},
     "output_type": "execute_result"
    }
   ],
   "source": [
    "# numpy linspace\n",
    "np.linspace(5,6,10)   # start, stop, no.of data points"
   ]
  },
  {
   "cell_type": "code",
   "execution_count": 98,
   "id": "310ceead",
   "metadata": {},
   "outputs": [
    {
     "data": {
      "text/plain": [
       "array([0., 0., 0., 0., 0.])"
      ]
     },
     "execution_count": 98,
     "metadata": {},
     "output_type": "execute_result"
    }
   ],
   "source": [
    "np.zeros(5)"
   ]
  },
  {
   "cell_type": "code",
   "execution_count": 99,
   "id": "ad544a84",
   "metadata": {},
   "outputs": [
    {
     "data": {
      "text/plain": [
       "array([[[0., 0., 0., 0., 0.],\n",
       "        [0., 0., 0., 0., 0.],\n",
       "        [0., 0., 0., 0., 0.],\n",
       "        [0., 0., 0., 0., 0.]],\n",
       "\n",
       "       [[0., 0., 0., 0., 0.],\n",
       "        [0., 0., 0., 0., 0.],\n",
       "        [0., 0., 0., 0., 0.],\n",
       "        [0., 0., 0., 0., 0.]]])"
      ]
     },
     "execution_count": 99,
     "metadata": {},
     "output_type": "execute_result"
    }
   ],
   "source": [
    "np.zeros((2,4,5))"
   ]
  },
  {
   "cell_type": "code",
   "execution_count": 100,
   "id": "01c95359",
   "metadata": {},
   "outputs": [
    {
     "data": {
      "text/plain": [
       "array([1., 1., 1., 1.])"
      ]
     },
     "execution_count": 100,
     "metadata": {},
     "output_type": "execute_result"
    }
   ],
   "source": [
    "np.ones(4)"
   ]
  },
  {
   "cell_type": "code",
   "execution_count": 102,
   "id": "fe423f56",
   "metadata": {},
   "outputs": [
    {
     "data": {
      "text/plain": [
       "array([[1., 1., 1.],\n",
       "       [1., 1., 1.]])"
      ]
     },
     "execution_count": 102,
     "metadata": {},
     "output_type": "execute_result"
    }
   ],
   "source": [
    "np.ones((2,3))"
   ]
  },
  {
   "cell_type": "code",
   "execution_count": 103,
   "id": "c65aeb76",
   "metadata": {},
   "outputs": [
    {
     "data": {
      "text/plain": [
       "array([0., 0., 0., 0., 0.])"
      ]
     },
     "execution_count": 103,
     "metadata": {},
     "output_type": "execute_result"
    }
   ],
   "source": [
    "np.empty(5)"
   ]
  },
  {
   "cell_type": "code",
   "execution_count": 104,
   "id": "0387de1b",
   "metadata": {},
   "outputs": [
    {
     "data": {
      "text/plain": [
       "array([[[1.84963079e-316, 0.00000000e+000, 6.93476163e-310,\n",
       "         6.93476163e-310],\n",
       "        [6.93476163e-310, 6.93476163e-310, 6.93476163e-310,\n",
       "         6.93476163e-310],\n",
       "        [6.93476163e-310, 6.93476163e-310, 6.93476163e-310,\n",
       "         6.93476163e-310]],\n",
       "\n",
       "       [[6.93476163e-310, 6.93476163e-310, 6.93476163e-310,\n",
       "         6.93476163e-310],\n",
       "        [6.93476163e-310, 6.93476163e-310, 6.93476163e-310,\n",
       "         6.93476163e-310],\n",
       "        [6.93476163e-310, 6.93476163e-310, 6.93476163e-310,\n",
       "         6.93476163e-310]]])"
      ]
     },
     "execution_count": 104,
     "metadata": {},
     "output_type": "execute_result"
    }
   ],
   "source": [
    "np.empty((2,3,4))"
   ]
  },
  {
   "cell_type": "code",
   "execution_count": 105,
   "id": "2dcb3d48",
   "metadata": {},
   "outputs": [
    {
     "data": {
      "text/plain": [
       "array([[1., 0., 0.],\n",
       "       [0., 1., 0.],\n",
       "       [0., 0., 1.]])"
      ]
     },
     "execution_count": 105,
     "metadata": {},
     "output_type": "execute_result"
    }
   ],
   "source": [
    "np.eye(3)    # identity matrix"
   ]
  },
  {
   "cell_type": "code",
   "execution_count": 108,
   "id": "cea4fbf7",
   "metadata": {},
   "outputs": [
    {
     "data": {
      "text/plain": [
       "array([[1.  , 1.02, 1.04, 1.06, 1.08, 1.1 , 1.12, 1.14, 1.16, 1.18, 1.2 ,\n",
       "        1.22, 1.24, 1.26, 1.28, 1.3 , 1.32, 1.34, 1.36, 1.38, 1.4 , 1.42,\n",
       "        1.44, 1.46, 1.48, 1.5 , 1.52, 1.54, 1.56, 1.58, 1.6 , 1.62, 1.64,\n",
       "        1.66, 1.68, 1.7 , 1.72, 1.74, 1.76, 1.78, 1.8 , 1.82, 1.84, 1.86,\n",
       "        1.88, 1.9 , 1.92, 1.94, 1.96, 1.98],\n",
       "       [4.  , 3.96, 3.92, 3.88, 3.84, 3.8 , 3.76, 3.72, 3.68, 3.64, 3.6 ,\n",
       "        3.56, 3.52, 3.48, 3.44, 3.4 , 3.36, 3.32, 3.28, 3.24, 3.2 , 3.16,\n",
       "        3.12, 3.08, 3.04, 3.  , 2.96, 2.92, 2.88, 2.84, 2.8 , 2.76, 2.72,\n",
       "        2.68, 2.64, 2.6 , 2.56, 2.52, 2.48, 2.44, 2.4 , 2.36, 2.32, 2.28,\n",
       "        2.24, 2.2 , 2.16, 2.12, 2.08, 2.04]])"
      ]
     },
     "execution_count": 108,
     "metadata": {},
     "output_type": "execute_result"
    }
   ],
   "source": [
    "np.linspace([1,4],2, endpoint = False, axis = 1)"
   ]
  },
  {
   "cell_type": "code",
   "execution_count": 107,
   "id": "f1f9b363",
   "metadata": {},
   "outputs": [
    {
     "data": {
      "text/plain": [
       "array([ 100.        ,  215.443469  ,  464.15888336, 1000.        ])"
      ]
     },
     "execution_count": 107,
     "metadata": {},
     "output_type": "execute_result"
    }
   ],
   "source": [
    "np.logspace(2, 3, 4)"
   ]
  },
  {
   "cell_type": "code",
   "execution_count": 109,
   "id": "8117ceee",
   "metadata": {},
   "outputs": [],
   "source": [
    "d = np.linspace(4,8,40)"
   ]
  },
  {
   "cell_type": "code",
   "execution_count": 110,
   "id": "fc5474a8",
   "metadata": {},
   "outputs": [
    {
     "data": {
      "text/plain": [
       "array([4.        , 4.1025641 , 4.20512821, 4.30769231, 4.41025641,\n",
       "       4.51282051, 4.61538462, 4.71794872, 4.82051282, 4.92307692,\n",
       "       5.02564103, 5.12820513, 5.23076923, 5.33333333, 5.43589744,\n",
       "       5.53846154, 5.64102564, 5.74358974, 5.84615385, 5.94871795,\n",
       "       6.05128205, 6.15384615, 6.25641026, 6.35897436, 6.46153846,\n",
       "       6.56410256, 6.66666667, 6.76923077, 6.87179487, 6.97435897,\n",
       "       7.07692308, 7.17948718, 7.28205128, 7.38461538, 7.48717949,\n",
       "       7.58974359, 7.69230769, 7.79487179, 7.8974359 , 8.        ])"
      ]
     },
     "execution_count": 110,
     "metadata": {},
     "output_type": "execute_result"
    }
   ],
   "source": [
    "d"
   ]
  },
  {
   "cell_type": "code",
   "execution_count": 111,
   "id": "df2b7c7c",
   "metadata": {},
   "outputs": [
    {
     "data": {
      "text/plain": [
       "(40,)"
      ]
     },
     "execution_count": 111,
     "metadata": {},
     "output_type": "execute_result"
    }
   ],
   "source": [
    "d.shape"
   ]
  },
  {
   "cell_type": "code",
   "execution_count": 112,
   "id": "741cf2c2",
   "metadata": {},
   "outputs": [
    {
     "data": {
      "text/plain": [
       "1"
      ]
     },
     "execution_count": 112,
     "metadata": {},
     "output_type": "execute_result"
    }
   ],
   "source": [
    "d.ndim"
   ]
  },
  {
   "cell_type": "code",
   "execution_count": 114,
   "id": "79510117",
   "metadata": {},
   "outputs": [
    {
     "data": {
      "text/plain": [
       "array([[4.        , 4.1025641 ],\n",
       "       [4.20512821, 4.30769231],\n",
       "       [4.41025641, 4.51282051],\n",
       "       [4.61538462, 4.71794872],\n",
       "       [4.82051282, 4.92307692],\n",
       "       [5.02564103, 5.12820513],\n",
       "       [5.23076923, 5.33333333],\n",
       "       [5.43589744, 5.53846154],\n",
       "       [5.64102564, 5.74358974],\n",
       "       [5.84615385, 5.94871795],\n",
       "       [6.05128205, 6.15384615],\n",
       "       [6.25641026, 6.35897436],\n",
       "       [6.46153846, 6.56410256],\n",
       "       [6.66666667, 6.76923077],\n",
       "       [6.87179487, 6.97435897],\n",
       "       [7.07692308, 7.17948718],\n",
       "       [7.28205128, 7.38461538],\n",
       "       [7.48717949, 7.58974359],\n",
       "       [7.69230769, 7.79487179],\n",
       "       [7.8974359 , 8.        ]])"
      ]
     },
     "execution_count": 114,
     "metadata": {},
     "output_type": "execute_result"
    }
   ],
   "source": [
    "d.reshape(20,2)"
   ]
  },
  {
   "cell_type": "code",
   "execution_count": 117,
   "id": "07915570",
   "metadata": {},
   "outputs": [
    {
     "data": {
      "text/plain": [
       "array([[[4.        , 4.1025641 , 4.20512821, 4.30769231, 4.41025641,\n",
       "         4.51282051, 4.61538462, 4.71794872, 4.82051282, 4.92307692],\n",
       "        [5.02564103, 5.12820513, 5.23076923, 5.33333333, 5.43589744,\n",
       "         5.53846154, 5.64102564, 5.74358974, 5.84615385, 5.94871795]],\n",
       "\n",
       "       [[6.05128205, 6.15384615, 6.25641026, 6.35897436, 6.46153846,\n",
       "         6.56410256, 6.66666667, 6.76923077, 6.87179487, 6.97435897],\n",
       "        [7.07692308, 7.17948718, 7.28205128, 7.38461538, 7.48717949,\n",
       "         7.58974359, 7.69230769, 7.79487179, 7.8974359 , 8.        ]]])"
      ]
     },
     "execution_count": 117,
     "metadata": {},
     "output_type": "execute_result"
    }
   ],
   "source": [
    "d.reshape((2,2,10))"
   ]
  },
  {
   "cell_type": "code",
   "execution_count": 121,
   "id": "73697d10",
   "metadata": {},
   "outputs": [
    {
     "data": {
      "text/plain": [
       "array([0.71865756, 0.18002006, 0.23811735, 0.65235205, 0.71757377])"
      ]
     },
     "execution_count": 121,
     "metadata": {},
     "output_type": "execute_result"
    }
   ],
   "source": [
    "# generating random numbers\n",
    "# follows uniform distribution\n",
    "\n",
    "np.random.rand(5)"
   ]
  },
  {
   "cell_type": "code",
   "execution_count": 122,
   "id": "84c5ca45",
   "metadata": {},
   "outputs": [
    {
     "data": {
      "text/plain": [
       "array([-0.31942957,  0.65822239, -0.97132901, -0.93764602, -1.16679631])"
      ]
     },
     "execution_count": 122,
     "metadata": {},
     "output_type": "execute_result"
    }
   ],
   "source": [
    "# follows standard normal distribution.\n",
    "np.random.randn(5)"
   ]
  },
  {
   "cell_type": "code",
   "execution_count": 123,
   "id": "e9173aa9",
   "metadata": {},
   "outputs": [
    {
     "data": {
      "text/plain": [
       "array([[ 1.84988841, -0.39378574, -0.96725624,  0.36414418],\n",
       "       [-0.39872597,  0.09502162, -0.248507  ,  1.02209775],\n",
       "       [-1.98968869,  2.06464267, -0.65235963, -0.56791446]])"
      ]
     },
     "execution_count": 123,
     "metadata": {},
     "output_type": "execute_result"
    }
   ],
   "source": [
    "np.random.randn(3,4)"
   ]
  },
  {
   "cell_type": "code",
   "execution_count": 125,
   "id": "b49b54e6",
   "metadata": {},
   "outputs": [
    {
     "data": {
      "text/plain": [
       "array([[[ 1.62656983,  0.29737716,  1.53103927, -0.2047716 ],\n",
       "        [ 0.27737116, -0.26172118, -1.34808624, -0.23782905],\n",
       "        [ 0.42207564,  0.24538546, -0.70966572,  0.36221937]],\n",
       "\n",
       "       [[ 0.14091408, -0.80576549, -0.10059371,  2.09961652],\n",
       "        [ 1.08351907,  1.33922658,  0.4689647 ,  0.43135572],\n",
       "        [-0.41599701,  2.02328247, -1.40001095, -0.49725604]]])"
      ]
     },
     "execution_count": 125,
     "metadata": {},
     "output_type": "execute_result"
    }
   ],
   "source": [
    "np.random.randn(2,3,4)"
   ]
  },
  {
   "cell_type": "code",
   "execution_count": 127,
   "id": "f45a7f44",
   "metadata": {},
   "outputs": [
    {
     "data": {
      "text/plain": [
       "25"
      ]
     },
     "execution_count": 127,
     "metadata": {},
     "output_type": "execute_result"
    }
   ],
   "source": [
    "# generate random integer number\n",
    "\n",
    "np.random.randint(50)"
   ]
  },
  {
   "cell_type": "code",
   "execution_count": 130,
   "id": "e2e3b2da",
   "metadata": {},
   "outputs": [
    {
     "data": {
      "text/plain": [
       "array([[43, 42, 39, 42],\n",
       "       [30, 49, 18, 21],\n",
       "       [44, 48, 16, 44],\n",
       "       [24, 26, 17,  9]])"
      ]
     },
     "execution_count": 130,
     "metadata": {},
     "output_type": "execute_result"
    }
   ],
   "source": [
    "np.random.randint(2,54,(4,4))    # create a 4X4 matrix where the elements will be random no.s between 2 and 54"
   ]
  },
  {
   "cell_type": "code",
   "execution_count": 131,
   "id": "a535f378",
   "metadata": {},
   "outputs": [],
   "source": [
    "arr = np.random.randint(3,9,(3,3))"
   ]
  },
  {
   "cell_type": "code",
   "execution_count": 132,
   "id": "c72ff142",
   "metadata": {},
   "outputs": [
    {
     "data": {
      "text/plain": [
       "array([[6, 8, 7],\n",
       "       [4, 4, 8],\n",
       "       [7, 4, 5]])"
      ]
     },
     "execution_count": 132,
     "metadata": {},
     "output_type": "execute_result"
    }
   ],
   "source": [
    "arr"
   ]
  },
  {
   "cell_type": "code",
   "execution_count": 133,
   "id": "4edce7a3",
   "metadata": {},
   "outputs": [
    {
     "data": {
      "text/plain": [
       "array([[6],\n",
       "       [8],\n",
       "       [7],\n",
       "       [4],\n",
       "       [4],\n",
       "       [8],\n",
       "       [7],\n",
       "       [4],\n",
       "       [5]])"
      ]
     },
     "execution_count": 133,
     "metadata": {},
     "output_type": "execute_result"
    }
   ],
   "source": [
    "arr.reshape(9,1)"
   ]
  },
  {
   "cell_type": "code",
   "execution_count": 134,
   "id": "ba7d70b4",
   "metadata": {},
   "outputs": [
    {
     "data": {
      "text/plain": [
       "array([[[6, 8, 7, 4, 4, 8, 7, 4, 5]]])"
      ]
     },
     "execution_count": 134,
     "metadata": {},
     "output_type": "execute_result"
    }
   ],
   "source": [
    "arr.reshape(1,1,9)"
   ]
  },
  {
   "cell_type": "code",
   "execution_count": 135,
   "id": "8088d85a",
   "metadata": {},
   "outputs": [
    {
     "data": {
      "text/plain": [
       "array([[[6],\n",
       "        [8],\n",
       "        [7]],\n",
       "\n",
       "       [[4],\n",
       "        [4],\n",
       "        [8]],\n",
       "\n",
       "       [[7],\n",
       "        [4],\n",
       "        [5]]])"
      ]
     },
     "execution_count": 135,
     "metadata": {},
     "output_type": "execute_result"
    }
   ],
   "source": [
    "arr.reshape(3,3,1)"
   ]
  },
  {
   "cell_type": "code",
   "execution_count": 136,
   "id": "93b9da1f",
   "metadata": {},
   "outputs": [
    {
     "data": {
      "text/plain": [
       "array([[6, 8, 7, 4, 4, 8, 7, 4, 5]])"
      ]
     },
     "execution_count": 136,
     "metadata": {},
     "output_type": "execute_result"
    }
   ],
   "source": [
    "arr.reshape(1, -22)    # numpy takes the first argument(1) and guessess the unknown dimension\n",
    "                       # Pass -1 (can be any negative number) as the value, and NumPy will calculate this number for you."
   ]
  },
  {
   "cell_type": "code",
   "execution_count": 139,
   "id": "d4ee27a1",
   "metadata": {},
   "outputs": [
    {
     "data": {
      "text/plain": [
       "array([[77,  2,  3],\n",
       "       [ 4,  5,  6]])"
      ]
     },
     "execution_count": 139,
     "metadata": {},
     "output_type": "execute_result"
    }
   ],
   "source": [
    "arr1"
   ]
  },
  {
   "cell_type": "code",
   "execution_count": 138,
   "id": "db4acb43",
   "metadata": {},
   "outputs": [
    {
     "data": {
      "text/plain": [
       "77"
      ]
     },
     "execution_count": 138,
     "metadata": {},
     "output_type": "execute_result"
    }
   ],
   "source": [
    "arr1.max()"
   ]
  },
  {
   "cell_type": "code",
   "execution_count": 150,
   "id": "55334a23",
   "metadata": {},
   "outputs": [],
   "source": [
    "arr3 = np.random.randint(4,50, (5,5))"
   ]
  },
  {
   "cell_type": "code",
   "execution_count": 151,
   "id": "4c549150",
   "metadata": {},
   "outputs": [
    {
     "data": {
      "text/plain": [
       "array([[20, 29, 43, 35, 48],\n",
       "       [33, 39, 44, 16, 16],\n",
       "       [47, 15, 20, 15, 40],\n",
       "       [11, 15, 14, 26, 11],\n",
       "       [48, 39, 32, 24, 24]])"
      ]
     },
     "execution_count": 151,
     "metadata": {},
     "output_type": "execute_result"
    }
   ],
   "source": [
    "arr3"
   ]
  },
  {
   "cell_type": "code",
   "execution_count": 142,
   "id": "9ca34689",
   "metadata": {},
   "outputs": [
    {
     "data": {
      "text/plain": [
       "array([[45, 19],\n",
       "       [23, 29]])"
      ]
     },
     "execution_count": 142,
     "metadata": {},
     "output_type": "execute_result"
    }
   ],
   "source": [
    "arr3[3: , 3: ]"
   ]
  },
  {
   "cell_type": "code",
   "execution_count": 143,
   "id": "c4d1b398",
   "metadata": {},
   "outputs": [
    {
     "data": {
      "text/plain": [
       "array([[15, 41],\n",
       "       [20, 44]])"
      ]
     },
     "execution_count": 143,
     "metadata": {},
     "output_type": "execute_result"
    }
   ],
   "source": [
    "arr3[0:2, 1:3]"
   ]
  },
  {
   "cell_type": "code",
   "execution_count": 146,
   "id": "69be73c8",
   "metadata": {},
   "outputs": [
    {
     "data": {
      "text/plain": [
       "array([[15,  6],\n",
       "       [20, 26],\n",
       "       [25, 43],\n",
       "       [23, 45],\n",
       "       [11, 23]])"
      ]
     },
     "execution_count": 146,
     "metadata": {},
     "output_type": "execute_result"
    }
   ],
   "source": [
    "arr3[:, [1,3]]   # select all the rows and 1st and 3rd column"
   ]
  },
  {
   "cell_type": "code",
   "execution_count": 147,
   "id": "e517dcef",
   "metadata": {},
   "outputs": [
    {
     "data": {
      "text/plain": [
       "array([[ True, False,  True, False, False],\n",
       "       [False, False,  True,  True,  True],\n",
       "       [ True,  True,  True,  True,  True],\n",
       "       [ True,  True,  True,  True, False],\n",
       "       [ True, False,  True,  True,  True]])"
      ]
     },
     "execution_count": 147,
     "metadata": {},
     "output_type": "execute_result"
    }
   ],
   "source": [
    "arr3>20"
   ]
  },
  {
   "cell_type": "code",
   "execution_count": 153,
   "id": "44a8fa29",
   "metadata": {},
   "outputs": [],
   "source": [
    "arr11 = np.random.randint(2,4, (2,2))\n",
    "arr22 = np.random.randint(2,4, (2,2))"
   ]
  },
  {
   "cell_type": "code",
   "execution_count": 154,
   "id": "0843cf0e",
   "metadata": {},
   "outputs": [
    {
     "data": {
      "text/plain": [
       "array([[3, 3],\n",
       "       [2, 3]])"
      ]
     },
     "execution_count": 154,
     "metadata": {},
     "output_type": "execute_result"
    }
   ],
   "source": [
    "arr11"
   ]
  },
  {
   "cell_type": "code",
   "execution_count": 155,
   "id": "ef74bff9",
   "metadata": {},
   "outputs": [
    {
     "data": {
      "text/plain": [
       "array([[3, 2],\n",
       "       [2, 2]])"
      ]
     },
     "execution_count": 155,
     "metadata": {},
     "output_type": "execute_result"
    }
   ],
   "source": [
    "arr22"
   ]
  },
  {
   "cell_type": "code",
   "execution_count": 156,
   "id": "7ca649b9",
   "metadata": {},
   "outputs": [
    {
     "data": {
      "text/plain": [
       "array([[9, 6],\n",
       "       [4, 6]])"
      ]
     },
     "execution_count": 156,
     "metadata": {},
     "output_type": "execute_result"
    }
   ],
   "source": [
    "# Element wise multiplication\n",
    "arr11*arr22"
   ]
  },
  {
   "cell_type": "code",
   "execution_count": 157,
   "id": "643562b3",
   "metadata": {},
   "outputs": [
    {
     "data": {
      "text/plain": [
       "array([[15, 12],\n",
       "       [12, 10]])"
      ]
     },
     "execution_count": 157,
     "metadata": {},
     "output_type": "execute_result"
    }
   ],
   "source": [
    "# Matrix multiplication\n",
    "\n",
    "arr11@arr22"
   ]
  },
  {
   "cell_type": "code",
   "execution_count": 158,
   "id": "aaae9a47",
   "metadata": {},
   "outputs": [
    {
     "data": {
      "text/plain": [
       "array([[9, 9],\n",
       "       [4, 9]])"
      ]
     },
     "execution_count": 158,
     "metadata": {},
     "output_type": "execute_result"
    }
   ],
   "source": [
    "# element wise operation\n",
    " \n",
    "arr11**2"
   ]
  },
  {
   "cell_type": "code",
   "execution_count": 164,
   "id": "05e37389",
   "metadata": {},
   "outputs": [],
   "source": [
    "# Broadcasting (row wise)\n",
    "\n",
    "arr5 = np.zeros((3,4))"
   ]
  },
  {
   "cell_type": "code",
   "execution_count": 165,
   "id": "9607906a",
   "metadata": {},
   "outputs": [
    {
     "data": {
      "text/plain": [
       "array([[0., 0., 0., 0.],\n",
       "       [0., 0., 0., 0.],\n",
       "       [0., 0., 0., 0.]])"
      ]
     },
     "execution_count": 165,
     "metadata": {},
     "output_type": "execute_result"
    }
   ],
   "source": [
    "arr5"
   ]
  },
  {
   "cell_type": "code",
   "execution_count": 166,
   "id": "cd798f87",
   "metadata": {},
   "outputs": [
    {
     "data": {
      "text/plain": [
       "array([[3., 3., 3., 3.],\n",
       "       [3., 3., 3., 3.],\n",
       "       [3., 3., 3., 3.]])"
      ]
     },
     "execution_count": 166,
     "metadata": {},
     "output_type": "execute_result"
    }
   ],
   "source": [
    "arr5 +3"
   ]
  },
  {
   "cell_type": "code",
   "execution_count": 167,
   "id": "e962902e",
   "metadata": {},
   "outputs": [
    {
     "data": {
      "text/plain": [
       "array([[1., 2., 3., 4.],\n",
       "       [1., 2., 3., 4.],\n",
       "       [1., 2., 3., 4.]])"
      ]
     },
     "execution_count": 167,
     "metadata": {},
     "output_type": "execute_result"
    }
   ],
   "source": [
    "arr6 = [1,2,3,4]\n",
    "arr5+arr6"
   ]
  },
  {
   "cell_type": "code",
   "execution_count": 171,
   "id": "5a2ee978",
   "metadata": {},
   "outputs": [],
   "source": [
    "# Broadcasting (column wise)\n",
    "\n",
    "arr12 = np.random.randint(2,6, 3)"
   ]
  },
  {
   "cell_type": "code",
   "execution_count": 172,
   "id": "c73e6c44",
   "metadata": {},
   "outputs": [
    {
     "data": {
      "text/plain": [
       "array([5, 3, 5])"
      ]
     },
     "execution_count": 172,
     "metadata": {},
     "output_type": "execute_result"
    }
   ],
   "source": [
    "arr12"
   ]
  },
  {
   "cell_type": "code",
   "execution_count": 173,
   "id": "31e60391",
   "metadata": {},
   "outputs": [],
   "source": [
    "arr12_new = arr12.reshape((3,1))"
   ]
  },
  {
   "cell_type": "code",
   "execution_count": 174,
   "id": "3f23af9a",
   "metadata": {},
   "outputs": [
    {
     "data": {
      "text/plain": [
       "array([[5],\n",
       "       [3],\n",
       "       [5]])"
      ]
     },
     "execution_count": 174,
     "metadata": {},
     "output_type": "execute_result"
    }
   ],
   "source": [
    "arr12_new"
   ]
  },
  {
   "cell_type": "code",
   "execution_count": 175,
   "id": "1cd3c05b",
   "metadata": {},
   "outputs": [
    {
     "data": {
      "text/plain": [
       "array([[5., 5., 5., 5.],\n",
       "       [3., 3., 3., 3.],\n",
       "       [5., 5., 5., 5.]])"
      ]
     },
     "execution_count": 175,
     "metadata": {},
     "output_type": "execute_result"
    }
   ],
   "source": [
    "arr5 + arr12_new"
   ]
  },
  {
   "cell_type": "code",
   "execution_count": 178,
   "id": "8723d203",
   "metadata": {},
   "outputs": [
    {
     "data": {
      "text/plain": [
       "array([[0.37454012, 0.95071431, 0.73199394, 0.59865848],\n",
       "       [0.15601864, 0.15599452, 0.05808361, 0.86617615]])"
      ]
     },
     "execution_count": 178,
     "metadata": {},
     "output_type": "execute_result"
    }
   ],
   "source": [
    "np.random.seed(42)\n",
    "np.random.rand(2,4)"
   ]
  },
  {
   "cell_type": "code",
   "execution_count": null,
   "id": "a61108d7",
   "metadata": {},
   "outputs": [],
   "source": []
  },
  {
   "cell_type": "code",
   "execution_count": null,
   "id": "572d49f9",
   "metadata": {},
   "outputs": [],
   "source": []
  }
 ],
 "metadata": {
  "kernelspec": {
   "display_name": "Python 3",
   "language": "python",
   "name": "python3"
  },
  "language_info": {
   "codemirror_mode": {
    "name": "ipython",
    "version": 3
   },
   "file_extension": ".py",
   "mimetype": "text/x-python",
   "name": "python",
   "nbconvert_exporter": "python",
   "pygments_lexer": "ipython3",
   "version": "3.8.10"
  }
 },
 "nbformat": 4,
 "nbformat_minor": 5
}
